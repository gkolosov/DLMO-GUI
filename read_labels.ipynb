{
 "cells": [
  {
   "cell_type": "code",
   "execution_count": 2,
   "id": "f65fd46b",
   "metadata": {},
   "outputs": [],
   "source": [
    "import pickle\n",
    "\n",
    "\n",
    "from IPython.core.display import display, HTML\n",
    "display(HTML(\"<style>.container { width:100% !important; }</style>\"))\n",
    "\n"
   ]
  },
  {
   "cell_type": "code",
   "execution_count": 3,
   "id": "8934db24",
   "metadata": {},
   "outputs": [],
   "source": [
    "\n",
    "PATH_SAVE = \"data/expert_labels.pickle\"\n",
    "\n",
    "with open(PATH_SAVE, 'rb') as handle:\n",
    "    b = pickle.load(handle)\n",
    "\n"
   ]
  },
  {
   "cell_type": "code",
   "execution_count": 4,
   "id": "0e434652",
   "metadata": {},
   "outputs": [
    {
     "data": {
      "text/plain": [
       "{0: <dlmo_expert_GUI.State at 0x7fb5cefaf970>,\n",
       " 1: <dlmo_expert_GUI.State at 0x7fb5cefafb50>,\n",
       " 2: <dlmo_expert_GUI.State at 0x7fb5cef8f640>}"
      ]
     },
     "execution_count": 4,
     "metadata": {},
     "output_type": "execute_result"
    }
   ],
   "source": [
    "b"
   ]
  }
 ],
 "metadata": {
  "kernelspec": {
   "display_name": "mignot_lab",
   "language": "python",
   "name": "mignot_lab"
  },
  "language_info": {
   "codemirror_mode": {
    "name": "ipython",
    "version": 3
   },
   "file_extension": ".py",
   "mimetype": "text/x-python",
   "name": "python",
   "nbconvert_exporter": "python",
   "pygments_lexer": "ipython3",
   "version": "3.8.5"
  }
 },
 "nbformat": 4,
 "nbformat_minor": 5
}
